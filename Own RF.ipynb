{
 "cells": [
  {
   "cell_type": "code",
   "execution_count": 1,
   "metadata": {},
   "outputs": [],
   "source": [
    "import numpy\n",
    "import pandas\n",
    "import random"
   ]
  },
  {
   "cell_type": "code",
   "execution_count": 2,
   "metadata": {},
   "outputs": [],
   "source": [
    "def trainTestSplit(dataFrame, testSize):\n",
    "    if isinstance(testSize, float):\n",
    "        testSize = round(testSize * len(dataFrame))\n",
    "    indices = dataFrame.index.tolist()\n",
    "    testIndices = random.sample(population = indices, k = testSize)\n",
    "    dataFrameTest = dataFrame.loc[testIndices]\n",
    "    dataFrameTrain = dataFrame.drop(testIndices)\n",
    "    return dataFrameTrain, dataFrameTest"
   ]
  },
  {
   "cell_type": "code",
   "execution_count": 3,
   "metadata": {},
   "outputs": [],
   "source": [
    "def checkPurity(data):\n",
    "    if len(numpy.unique(data[:, -1])) == 1:\n",
    "        return True\n",
    "    else:\n",
    "        return False"
   ]
  },
  {
   "cell_type": "code",
   "execution_count": 4,
   "metadata": {},
   "outputs": [],
   "source": [
    "def classifyData(data):\n",
    "    uniqueClasses, uniqueClassesCounts = numpy.unique(data[:, -1], return_counts = True)\n",
    "    return uniqueClasses[uniqueClassesCounts.argmax()]"
   ]
  },
  {
   "cell_type": "code",
   "execution_count": 5,
   "metadata": {},
   "outputs": [],
   "source": [
    "def getPotentialSplits(data, randomAttributes):\n",
    "    potentialSplits = {}\n",
    "    _, columns = data.shape\n",
    "    columnsIndices = list(range(columns - 1))\n",
    "    if randomAttributes != None  and len(randomAttributes) <= len(columnsIndices):\n",
    "        columnsIndices = randomAttributes\n",
    "    for column in columnsIndices:\n",
    "        values = data[:, column]\n",
    "        uniqueValues = numpy.unique(values)\n",
    "        if len(uniqueValues) == 1:\n",
    "            potentialSplits[column] = uniqueValues\n",
    "        else:\n",
    "            potentialSplits[column] = []\n",
    "            for i in range(len(uniqueValues)):\n",
    "                if i != 0:\n",
    "                    currentValue = uniqueValues[i]\n",
    "                    previousValue = uniqueValues[i - 1]\n",
    "                    potentialSplits[column].append((currentValue + previousValue) / 2)\n",
    "    return potentialSplits"
   ]
  },
  {
   "cell_type": "code",
   "execution_count": 6,
   "metadata": {},
   "outputs": [],
   "source": [
    "def splitData(data, splitColumn, splitValue):\n",
    "    splitColumnValues = data[:, splitColumn]\n",
    "    return data[splitColumnValues <= splitValue], data[splitColumnValues > splitValue]"
   ]
  },
  {
   "cell_type": "code",
   "execution_count": 7,
   "metadata": {},
   "outputs": [],
   "source": [
    "def calculateEntropy(data):\n",
    "    _, uniqueClassesCounts = numpy.unique(data[:, -1], return_counts = True)\n",
    "    probabilities = uniqueClassesCounts / uniqueClassesCounts.sum()\n",
    "    return sum(probabilities * -numpy.log2(probabilities))"
   ]
  },
  {
   "cell_type": "code",
   "execution_count": 8,
   "metadata": {},
   "outputs": [],
   "source": [
    "def calculateOverallEntropy(dataBelow, dataAbove):\n",
    "    pDataBelow = len(dataBelow) / (len(dataBelow) + len(dataAbove))\n",
    "    pDataAbove = len(dataAbove) / (len(dataBelow) + len(dataAbove))\n",
    "    return pDataBelow * calculateEntropy(dataBelow) + pDataAbove * calculateEntropy(dataAbove)"
   ]
  },
  {
   "cell_type": "code",
   "execution_count": 9,
   "metadata": {},
   "outputs": [],
   "source": [
    "def determineBestSplit(data, potentialSplits, randomSplits = None):\n",
    "    overallEntropy = 9999\n",
    "    bestSplitColumn = 0\n",
    "    bestSplitValue = 0\n",
    "    if randomSplits == None:\n",
    "        for splitColumn in potentialSplits:\n",
    "            for splitValue in potentialSplits[splitColumn]:\n",
    "                dataBelow, dataAbove = splitData(data, splitColumn, splitValue)\n",
    "                currentOverallEntropy = calculateOverallEntropy(dataBelow, dataAbove)\n",
    "                if currentOverallEntropy <= overallEntropy:\n",
    "                    overallEntropy = currentOverallEntropy\n",
    "                    bestSplitColumn = splitColumn\n",
    "                    bestSplitValue = splitValue\n",
    "    else:\n",
    "        for i in range(randomSplits):\n",
    "            randomSplitColumn = random.choice(list(potentialSplits))\n",
    "            randomSplitValue = random.choice(potentialSplits[randomSplitColumn])\n",
    "            dataBelow, dataAbove = splitData(data, randomSplitColumn, randomSplitValue)\n",
    "            currentOverallEntropy = calculateOverallEntropy(dataBelow, dataAbove)\n",
    "            if currentOverallEntropy <= overallEntropy:\n",
    "                overallEntropy = currentOverallEntropy\n",
    "                bestSplitColumn = randomSplitColumn\n",
    "                bestSplitValue = randomSplitValue\n",
    "    return bestSplitColumn, bestSplitValue"
   ]
  },
  {
   "cell_type": "code",
   "execution_count": 10,
   "metadata": {},
   "outputs": [],
   "source": [
    "def buildDecisionTree(dataFrame, currentDepth = 0, minSampleSize = 2, maxDepth = 1000, randomAttributes = None, randomSplits = None):\n",
    "    if currentDepth == 0:\n",
    "        global COLUMN_HEADERS\n",
    "        COLUMN_HEADERS = dataFrame.columns\n",
    "        data = dataFrame.values\n",
    "        if randomAttributes != None and randomAttributes <= len(COLUMN_HEADERS) - 1:\n",
    "            randomAttributes = random.sample(population = list(range(len(COLUMN_HEADERS) - 1)), k = randomAttributes)\n",
    "        else:\n",
    "            randomAttributes = None\n",
    "    else:\n",
    "        data = dataFrame\n",
    "    if checkPurity(data) or len(data) < minSampleSize or currentDepth == maxDepth:\n",
    "        return classifyData(data)\n",
    "    else:\n",
    "        currentDepth += 1\n",
    "        potentialSplits = getPotentialSplits(data, randomAttributes)\n",
    "        splitColumn, splitValue = determineBestSplit(data, potentialSplits, randomSplits)\n",
    "        dataBelow, dataAbove = splitData(data, splitColumn, splitValue)\n",
    "        if len(dataBelow) == 0 or len(dataAbove) == 0:\n",
    "            return classifyData(data)\n",
    "        else:\n",
    "            question = str(COLUMN_HEADERS[splitColumn]) + \" <= \" + str(splitValue)\n",
    "            decisionSubTree = {question: []}\n",
    "            yesAnswer = buildDecisionTree(dataBelow, currentDepth, minSampleSize, maxDepth, randomAttributes, randomSplits)\n",
    "            noAnswer = buildDecisionTree(dataAbove, currentDepth, minSampleSize, maxDepth, randomAttributes, randomSplits)\n",
    "            if yesAnswer == noAnswer:\n",
    "                decisionSubTree = yesAnswer\n",
    "            else:\n",
    "                decisionSubTree[question].append(yesAnswer)\n",
    "                decisionSubTree[question].append(noAnswer)\n",
    "            return decisionSubTree"
   ]
  },
  {
   "cell_type": "code",
   "execution_count": 11,
   "metadata": {},
   "outputs": [],
   "source": [
    "def classifySample(sample, decisionTree):\n",
    "    if not isinstance(decisionTree, dict):\n",
    "        return decisionTree\n",
    "    question = list(decisionTree.keys())[0]\n",
    "    attribute, value = question.split(\" <= \")\n",
    "    if sample[attribute] <= float(value):\n",
    "        answer = decisionTree[question][0]\n",
    "    else:\n",
    "        answer = decisionTree[question][1]\n",
    "    return classifySample(sample, answer)"
   ]
  },
  {
   "cell_type": "code",
   "execution_count": 12,
   "metadata": {},
   "outputs": [],
   "source": [
    "def decisionTreePredictions(dataFrame, decisionTree):\n",
    "    predictions = dataFrame.apply(classifySample, axis = 1, args = (decisionTree,))\n",
    "    return predictions"
   ]
  },
  {
   "cell_type": "code",
   "execution_count": 13,
   "metadata": {},
   "outputs": [],
   "source": [
    "def calculateAccuracy(predictedResults, category):\n",
    "    resultCorrect = predictedResults == category\n",
    "    return resultCorrect.mean()"
   ]
  },
  {
   "cell_type": "code",
   "execution_count": 14,
   "metadata": {},
   "outputs": [],
   "source": [
    "def trainTestSplit(dataFrame, testSize):\n",
    "    if isinstance(testSize, float):\n",
    "        testSize = round(testSize * len(dataFrame))\n",
    "    indices = dataFrame.index.tolist()\n",
    "    testIndices = random.sample(population = indices, k = testSize)\n",
    "    dataFrameTest = dataFrame.loc[testIndices]\n",
    "    dataFrameTrain = dataFrame.drop(testIndices)\n",
    "    return dataFrameTrain, dataFrameTest"
   ]
  },
  {
   "cell_type": "code",
   "execution_count": 15,
   "metadata": {},
   "outputs": [],
   "source": [
    "def bootstrapSample(dataFrame, bootstrapSize):\n",
    "    randomIndices = numpy.random.randint(low = 0, high = len(dataFrame), size = bootstrapSize)\n",
    "    return dataFrame.iloc[randomIndices]"
   ]
  },
  {
   "cell_type": "code",
   "execution_count": 16,
   "metadata": {},
   "outputs": [],
   "source": [
    "def createRandomForest(dataFrame, bootstrapSize, randomAttributes, randomSplits, forestSize = 20, treeMaxDepth = 1000):\n",
    "    forest = []\n",
    "    for i in range(forestSize):\n",
    "        bootstrappedDataFrame = bootstrapSample(dataFrame, bootstrapSize)\n",
    "        decisionTree = buildDecisionTree(bootstrappedDataFrame, maxDepth = treeMaxDepth, randomAttributes = randomAttributes, randomSplits = randomSplits)\n",
    "        forest.append(decisionTree)\n",
    "    return forest"
   ]
  },
  {
   "cell_type": "code",
   "execution_count": 17,
   "metadata": {},
   "outputs": [],
   "source": [
    "def randomForestPredictions(dataFrame, randomForest):\n",
    "    predictions = {}\n",
    "    for i in range(len(randomForest)):\n",
    "        column = \"decision tree \" + str(i)\n",
    "        predictions[column] = decisionTreePredictions(dataFrame, randomForest[i])\n",
    "    predictions = pandas.DataFrame(predictions)\n",
    "    return predictions.mode(axis = 1)[0]"
   ]
  },
  {
   "cell_type": "code",
   "execution_count": 18,
   "metadata": {},
   "outputs": [],
   "source": [
    "def calculateAccuracy(predictedResults, category):\n",
    "    resultCorrect = predictedResults == category\n",
    "    return resultCorrect.mean()"
   ]
  },
  {
   "cell_type": "markdown",
   "metadata": {},
   "source": [
    "## Importing Dataset"
   ]
  },
  {
   "cell_type": "code",
   "execution_count": 19,
   "metadata": {},
   "outputs": [],
   "source": [
    "dataFrame = pandas.read_csv(\"breast_cancer.csv\")"
   ]
  },
  {
   "cell_type": "code",
   "execution_count": 20,
   "metadata": {},
   "outputs": [],
   "source": [
    "dataFrame = dataFrame.drop(\"id\", axis = 1)"
   ]
  },
  {
   "cell_type": "code",
   "execution_count": 21,
   "metadata": {},
   "outputs": [],
   "source": [
    "dataFrame = dataFrame[dataFrame.columns.tolist()[1: ] + dataFrame.columns.tolist()[0: 1]]"
   ]
  },
  {
   "cell_type": "code",
   "execution_count": 22,
   "metadata": {},
   "outputs": [],
   "source": [
    "dataFrameTrain, dataFrameTest = trainTestSplit(dataFrame, testSize = 0.25)"
   ]
  },
  {
   "cell_type": "code",
   "execution_count": 23,
   "metadata": {},
   "outputs": [
    {
     "name": "stdout",
     "output_type": "stream",
     "text": [
      "Random Forest - Breast Cancer Dataset\n",
      "  Maximum bootstrap size (n) is 427\n",
      "  Maximum random subspace size (d) is 30\n"
     ]
    }
   ],
   "source": [
    "print(\"Random Forest - Breast Cancer Dataset\")\n",
    "print(\"  Maximum bootstrap size (n) is {}\".format(dataFrameTrain.shape[0]))\n",
    "print(\"  Maximum random subspace size (d) is {}\".format(dataFrameTrain.shape[1] - 1))"
   ]
  },
  {
   "cell_type": "code",
   "execution_count": 24,
   "metadata": {},
   "outputs": [],
   "source": [
    "import time"
   ]
  },
  {
   "cell_type": "code",
   "execution_count": 25,
   "metadata": {},
   "outputs": [
    {
     "name": "stdout",
     "output_type": "stream",
     "text": [
      "\n",
      "  Change n, keep other parameters\n",
      "  n = 10, d = 10, s = 50, k = 30, maxDepth = 3:\n",
      "    accTest = 92.96%, accTrain = 91.80%, buildTime = 0.20s\n",
      "  n = 60, d = 10, s = 50, k = 30, maxDepth = 3:\n",
      "    accTest = 94.37%, accTrain = 94.85%, buildTime = 0.53s\n",
      "  n = 110, d = 10, s = 50, k = 30, maxDepth = 3:\n",
      "    accTest = 95.77%, accTrain = 95.32%, buildTime = 0.69s\n",
      "  n = 160, d = 10, s = 50, k = 30, maxDepth = 3:\n",
      "    accTest = 95.77%, accTrain = 97.19%, buildTime = 0.83s\n",
      "  n = 210, d = 10, s = 50, k = 30, maxDepth = 3:\n",
      "    accTest = 93.66%, accTrain = 96.72%, buildTime = 0.96s\n",
      "  n = 260, d = 10, s = 50, k = 30, maxDepth = 3:\n",
      "    accTest = 96.48%, accTrain = 97.66%, buildTime = 1.11s\n",
      "  n = 310, d = 10, s = 50, k = 30, maxDepth = 3:\n",
      "    accTest = 97.18%, accTrain = 96.72%, buildTime = 1.22s\n",
      "  n = 360, d = 10, s = 50, k = 30, maxDepth = 3:\n",
      "    accTest = 95.77%, accTrain = 97.42%, buildTime = 1.32s\n",
      "  n = 410, d = 10, s = 50, k = 30, maxDepth = 3:\n",
      "    accTest = 94.37%, accTrain = 96.25%, buildTime = 1.44s\n"
     ]
    }
   ],
   "source": [
    "print(\"\\n  Change n, keep other parameters\")\n",
    "for i in range(10, dataFrameTrain.shape[0] + 1, 50):\n",
    "    startTime = time.time()\n",
    "    randomForest = createRandomForest(dataFrameTrain, bootstrapSize = i, randomAttributes = 10, randomSplits = 50, forestSize = 30, treeMaxDepth = 3)\n",
    "    buildingTime = time.time() - startTime\n",
    "    randomForestTestResults = randomForestPredictions(dataFrameTest, randomForest)\n",
    "    accuracyTest = calculateAccuracy(randomForestTestResults, dataFrameTest.iloc[:, -1]) * 100\n",
    "    randomForestTrainResults = randomForestPredictions(dataFrameTrain, randomForest)\n",
    "    accuracyTrain = calculateAccuracy(randomForestTrainResults, dataFrameTrain.iloc[:, -1]) * 100\n",
    "    print(\"  n = {}, d = {}, s = {}, k = {}, maxDepth = {}:\".format(i, 10, 50, 30, 3))\n",
    "    print(\"    accTest = {0:.2f}%, \".format(accuracyTest), end = \"\")\n",
    "    print(\"accTrain = {0:.2f}%, \".format(accuracyTrain), end = \"\")\n",
    "    print(\"buildTime = {0:.2f}s\".format(buildingTime), end = \"\\n\")"
   ]
  },
  {
   "cell_type": "code",
   "execution_count": 26,
   "metadata": {},
   "outputs": [
    {
     "name": "stdout",
     "output_type": "stream",
     "text": [
      "\n",
      "  Change d, keep other parameters\n",
      "  n = 60, d = 10, s = 50, k = 30, maxDepth = 3:\n",
      "    accTest = 95.77%, accTrain = 95.78%, buildTime = 0.51s\n",
      "  n = 60, d = 12, s = 50, k = 30, maxDepth = 3:\n",
      "    accTest = 92.96%, accTrain = 94.15%, buildTime = 0.51s\n",
      "  n = 60, d = 14, s = 50, k = 30, maxDepth = 3:\n",
      "    accTest = 95.07%, accTrain = 95.78%, buildTime = 0.49s\n",
      "  n = 60, d = 16, s = 50, k = 30, maxDepth = 3:\n",
      "    accTest = 95.07%, accTrain = 95.55%, buildTime = 0.49s\n",
      "  n = 60, d = 18, s = 50, k = 30, maxDepth = 3:\n",
      "    accTest = 92.96%, accTrain = 96.02%, buildTime = 0.49s\n",
      "  n = 60, d = 20, s = 50, k = 30, maxDepth = 3:\n",
      "    accTest = 94.37%, accTrain = 94.85%, buildTime = 0.51s\n",
      "  n = 60, d = 22, s = 50, k = 30, maxDepth = 3:\n",
      "    accTest = 95.07%, accTrain = 96.25%, buildTime = 0.47s\n",
      "  n = 60, d = 24, s = 50, k = 30, maxDepth = 3:\n",
      "    accTest = 95.77%, accTrain = 95.55%, buildTime = 0.53s\n",
      "  n = 60, d = 26, s = 50, k = 30, maxDepth = 3:\n",
      "    accTest = 94.37%, accTrain = 96.02%, buildTime = 0.54s\n",
      "  n = 60, d = 28, s = 50, k = 30, maxDepth = 3:\n",
      "    accTest = 94.37%, accTrain = 95.78%, buildTime = 0.56s\n",
      "  n = 60, d = 30, s = 50, k = 30, maxDepth = 3:\n",
      "    accTest = 95.07%, accTrain = 96.49%, buildTime = 0.58s\n"
     ]
    }
   ],
   "source": [
    "print(\"\\n  Change d, keep other parameters\")\n",
    "for i in range(10, dataFrameTrain.shape[1], 2):\n",
    "    startTime = time.time()\n",
    "    randomForest = createRandomForest(dataFrameTrain, bootstrapSize = 60, randomAttributes = i, randomSplits = 50, forestSize = 30, treeMaxDepth = 3)\n",
    "    buildingTime = time.time() - startTime\n",
    "    randomForestTestResults = randomForestPredictions(dataFrameTest, randomForest)\n",
    "    accuracyTest = calculateAccuracy(randomForestTestResults, dataFrameTest.iloc[:, -1]) * 100\n",
    "    randomForestTrainResults = randomForestPredictions(dataFrameTrain, randomForest)\n",
    "    accuracyTrain = calculateAccuracy(randomForestTrainResults, dataFrameTrain.iloc[:, -1]) * 100\n",
    "    print(\"  n = {}, d = {}, s = {}, k = {}, maxDepth = {}:\".format(60, i, 50, 30, 3))\n",
    "    print(\"    accTest = {0:.2f}%, \".format(accuracyTest), end = \"\")\n",
    "    print(\"accTrain = {0:.2f}%, \".format(accuracyTrain), end = \"\")\n",
    "    print(\"buildTime = {0:.2f}s\".format(buildingTime), end = \"\\n\")"
   ]
  },
  {
   "cell_type": "code",
   "execution_count": 27,
   "metadata": {},
   "outputs": [
    {
     "name": "stdout",
     "output_type": "stream",
     "text": [
      "\n",
      "  Change s, keep other parameters\n",
      "  n = 60, d = 10, s = 10, k = 30, maxDepth = 3:\n",
      "    accTest = 92.25%, accTrain = 94.61%, buildTime = 0.17s\n",
      "  n = 60, d = 10, s = 20, k = 30, maxDepth = 3:\n",
      "    accTest = 95.07%, accTrain = 94.85%, buildTime = 0.25s\n",
      "  n = 60, d = 10, s = 30, k = 30, maxDepth = 3:\n",
      "    accTest = 95.07%, accTrain = 95.08%, buildTime = 0.32s\n",
      "  n = 60, d = 10, s = 40, k = 30, maxDepth = 3:\n",
      "    accTest = 94.37%, accTrain = 93.91%, buildTime = 0.42s\n",
      "  n = 60, d = 10, s = 50, k = 30, maxDepth = 3:\n",
      "    accTest = 93.66%, accTrain = 95.32%, buildTime = 0.53s\n",
      "  n = 60, d = 10, s = 60, k = 30, maxDepth = 3:\n",
      "    accTest = 95.77%, accTrain = 96.72%, buildTime = 0.69s\n",
      "  n = 60, d = 10, s = 70, k = 30, maxDepth = 3:\n",
      "    accTest = 96.48%, accTrain = 95.55%, buildTime = 0.73s\n",
      "  n = 60, d = 10, s = 80, k = 30, maxDepth = 3:\n",
      "    accTest = 97.18%, accTrain = 96.72%, buildTime = 0.76s\n",
      "  n = 60, d = 10, s = 90, k = 30, maxDepth = 3:\n",
      "    accTest = 95.77%, accTrain = 96.25%, buildTime = 0.79s\n",
      "  n = 60, d = 10, s = 100, k = 30, maxDepth = 3:\n",
      "    accTest = 96.48%, accTrain = 96.02%, buildTime = 0.87s\n"
     ]
    }
   ],
   "source": [
    "print(\"\\n  Change s, keep other parameters\")\n",
    "for i in range(10, 100 + 1, 10):\n",
    "    startTime = time.time()\n",
    "    randomForest = createRandomForest(dataFrameTrain, bootstrapSize = 60, randomAttributes = 10, randomSplits = i, forestSize = 30, treeMaxDepth = 3)\n",
    "    buildingTime = time.time() - startTime\n",
    "    randomForestTestResults = randomForestPredictions(dataFrameTest, randomForest)\n",
    "    accuracyTest = calculateAccuracy(randomForestTestResults, dataFrameTest.iloc[:, -1]) * 100\n",
    "    randomForestTrainResults = randomForestPredictions(dataFrameTrain, randomForest)\n",
    "    accuracyTrain = calculateAccuracy(randomForestTrainResults, dataFrameTrain.iloc[:, -1]) * 100\n",
    "    print(\"  n = {}, d = {}, s = {}, k = {}, maxDepth = {}:\".format(60, 10, i, 30, 3))\n",
    "    print(\"    accTest = {0:.2f}%, \".format(accuracyTest), end = \"\")\n",
    "    print(\"accTrain = {0:.2f}%, \".format(accuracyTrain), end = \"\")\n",
    "    print(\"buildTime = {0:.2f}s\".format(buildingTime), end = \"\\n\")"
   ]
  },
  {
   "cell_type": "code",
   "execution_count": 28,
   "metadata": {},
   "outputs": [
    {
     "name": "stdout",
     "output_type": "stream",
     "text": [
      "\n",
      "  Change k, keep other parameters\n",
      "  n = 60, d = 10, s = 50, k = 10, maxDepth = 3:\n",
      "    accTest = 94.37%, accTrain = 93.91%, buildTime = 0.19s\n",
      "  n = 60, d = 10, s = 50, k = 20, maxDepth = 3:\n",
      "    accTest = 97.18%, accTrain = 96.49%, buildTime = 0.40s\n",
      "  n = 60, d = 10, s = 50, k = 30, maxDepth = 3:\n",
      "    accTest = 95.77%, accTrain = 95.08%, buildTime = 0.52s\n",
      "  n = 60, d = 10, s = 50, k = 40, maxDepth = 3:\n",
      "    accTest = 96.48%, accTrain = 96.96%, buildTime = 0.67s\n",
      "  n = 60, d = 10, s = 50, k = 50, maxDepth = 3:\n",
      "    accTest = 96.48%, accTrain = 96.02%, buildTime = 0.78s\n",
      "  n = 60, d = 10, s = 50, k = 60, maxDepth = 3:\n",
      "    accTest = 95.77%, accTrain = 94.85%, buildTime = 0.97s\n",
      "  n = 60, d = 10, s = 50, k = 70, maxDepth = 3:\n",
      "    accTest = 95.77%, accTrain = 96.25%, buildTime = 1.17s\n",
      "  n = 60, d = 10, s = 50, k = 80, maxDepth = 3:\n",
      "    accTest = 95.07%, accTrain = 96.02%, buildTime = 1.38s\n",
      "  n = 60, d = 10, s = 50, k = 90, maxDepth = 3:\n",
      "    accTest = 95.07%, accTrain = 95.55%, buildTime = 1.53s\n",
      "  n = 60, d = 10, s = 50, k = 100, maxDepth = 3:\n",
      "    accTest = 95.77%, accTrain = 96.49%, buildTime = 1.69s\n"
     ]
    }
   ],
   "source": [
    "print(\"\\n  Change k, keep other parameters\")\n",
    "for i in range(10, 100 + 1, 10):\n",
    "    startTime = time.time()\n",
    "    randomForest = createRandomForest(dataFrameTrain, bootstrapSize = 60, randomAttributes = 10, randomSplits = 50, forestSize = i, treeMaxDepth = 3)\n",
    "    buildingTime = time.time() - startTime\n",
    "    randomForestTestResults = randomForestPredictions(dataFrameTest, randomForest)\n",
    "    accuracyTest = calculateAccuracy(randomForestTestResults, dataFrameTest.iloc[:, -1]) * 100\n",
    "    randomForestTrainResults = randomForestPredictions(dataFrameTrain, randomForest)\n",
    "    accuracyTrain = calculateAccuracy(randomForestTrainResults, dataFrameTrain.iloc[:, -1]) * 100\n",
    "    print(\"  n = {}, d = {}, s = {}, k = {}, maxDepth = {}:\".format(60, 10, 50, i, 3))\n",
    "    print(\"    accTest = {0:.2f}%, \".format(accuracyTest), end = \"\")\n",
    "    print(\"accTrain = {0:.2f}%, \".format(accuracyTrain), end = \"\")\n",
    "    print(\"buildTime = {0:.2f}s\".format(buildingTime), end = \"\\n\")"
   ]
  },
  {
   "cell_type": "code",
   "execution_count": null,
   "metadata": {},
   "outputs": [],
   "source": []
  },
  {
   "cell_type": "code",
   "execution_count": null,
   "metadata": {},
   "outputs": [],
   "source": []
  },
  {
   "cell_type": "code",
   "execution_count": null,
   "metadata": {},
   "outputs": [],
   "source": []
  }
 ],
 "metadata": {
  "kernelspec": {
   "display_name": "base",
   "language": "python",
   "name": "base"
  },
  "language_info": {
   "codemirror_mode": {
    "name": "ipython",
    "version": 3
   },
   "file_extension": ".py",
   "mimetype": "text/x-python",
   "name": "python",
   "nbconvert_exporter": "python",
   "pygments_lexer": "ipython3",
   "version": "3.8.3"
  }
 },
 "nbformat": 4,
 "nbformat_minor": 4
}
